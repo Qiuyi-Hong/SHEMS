{
 "cells": [
  {
   "cell_type": "markdown",
   "metadata": {},
   "source": [
    "[![Open In Colab](https://colab.research.google.com/assets/colab-badge.svg)](https://colab.research.google.com/github/Qiuyi-Hong/SHEMS/blob/main/analysisSHEMS_v4.ipynb)"
   ]
  },
  {
   "cell_type": "code",
   "execution_count": 1,
   "metadata": {},
   "outputs": [],
   "source": [
    "# # Install necessary packages: \n",
    "# !pip install pyomo pandas openpyxl matplotlib jupyter\n",
    "\n",
    "# # Install cbc solver: \n",
    "# !sudo apt-get install  coinor-cbc coinor-libcbc-dev \n",
    "\n",
    "# # Download necessary files:\n",
    "# import urllib.request, sys\n",
    "\n",
    "# urls = [\n",
    "#     'https://raw.githubusercontent.com/Qiuyi-Hong/SHEMS/refs/heads/main/SHEMS_v3.py',\n",
    "#     'https://raw.githubusercontent.com/Qiuyi-Hong/SHEMS/refs/heads/main/SHEMS_v3.dat',\n",
    "#     'https://raw.githubusercontent.com/Qiuyi-Hong/SHEMS/refs/heads/main/Simulation%20Results/simulation_results_concatenated.csv',\n",
    "#     'https://raw.githubusercontent.com/Qiuyi-Hong/SHEMS/refs/heads/main/agile-half-hour-actual-rates-25-01-2023_26-01-2024.csv',\n",
    "#     'https://raw.githubusercontent.com/Qiuyi-Hong/SHEMS/refs/heads/main/simulation_results_completed.csv',\n",
    "#     ]\n",
    "# file_names = [url.split('/')[-1] for url in urls]\n",
    "\n",
    "# for i in range(len(urls)):\n",
    "#     urllib.request.urlretrieve(urls[i], file_names[i])\n"
   ]
  },
  {
   "cell_type": "code",
   "execution_count": 2,
   "metadata": {},
   "outputs": [],
   "source": [
    "import numpy as np\n",
    "import pandas as pd\n",
    "import matplotlib.pyplot as plt \n",
    "import matplotlib.dates as mdates\n",
    "from datetime import datetime, timedelta\n",
    "%matplotlib inline\n",
    "import pyomo.environ as pyo\n",
    "from shems import shems_model"
   ]
  },
  {
   "cell_type": "markdown",
   "metadata": {},
   "source": [
    "# Data Preparation"
   ]
  },
  {
   "cell_type": "code",
   "execution_count": 3,
   "metadata": {},
   "outputs": [
    {
     "data": {
      "text/html": [
       "<div>\n",
       "<style scoped>\n",
       "    .dataframe tbody tr th:only-of-type {\n",
       "        vertical-align: middle;\n",
       "    }\n",
       "\n",
       "    .dataframe tbody tr th {\n",
       "        vertical-align: top;\n",
       "    }\n",
       "\n",
       "    .dataframe thead th {\n",
       "        text-align: right;\n",
       "    }\n",
       "</style>\n",
       "<table border=\"1\" class=\"dataframe\">\n",
       "  <thead>\n",
       "    <tr style=\"text-align: right;\">\n",
       "      <th></th>\n",
       "      <th>Date</th>\n",
       "      <th>Dry-bulb temperature (°C)</th>\n",
       "      <th>Total system energy (kBtu/h)</th>\n",
       "      <th>System natural gas (kBtu/h)</th>\n",
       "      <th>System electricity (kBtu/h)</th>\n",
       "      <th>Total lights energy (kBtu/h)</th>\n",
       "      <th>Lights electricity (kBtu/h)</th>\n",
       "      <th>Total equip energy (kBtu/h)</th>\n",
       "      <th>Equip electricity (kBtu/h)</th>\n",
       "      <th>Total CE ex equip (kgCO2/h)</th>\n",
       "      <th>...</th>\n",
       "      <th>Total electricity (kBtu/h)</th>\n",
       "      <th>Total grid displaced elec. PV (kBtu/h)</th>\n",
       "      <th>Total energy (kBtu/h)</th>\n",
       "      <th>Transformer Losses (kBtu/h)</th>\n",
       "      <th>Agile Import price (p/kWh)</th>\n",
       "      <th>Agile Export price (p/kWh)</th>\n",
       "      <th>DHW demand (kW)</th>\n",
       "      <th>SH demand (kW)</th>\n",
       "      <th>Total heat demand (kW)</th>\n",
       "      <th>Ele demand (kW)</th>\n",
       "    </tr>\n",
       "  </thead>\n",
       "  <tbody>\n",
       "    <tr>\n",
       "      <th>0</th>\n",
       "      <td>2023-01-01 00:00:00</td>\n",
       "      <td>5.5</td>\n",
       "      <td>7.460</td>\n",
       "      <td>7.325</td>\n",
       "      <td>0.135</td>\n",
       "      <td>0.0</td>\n",
       "      <td>0.0</td>\n",
       "      <td>2.912</td>\n",
       "      <td>2.912</td>\n",
       "      <td>0.5</td>\n",
       "      <td>...</td>\n",
       "      <td>3.048</td>\n",
       "      <td>0.0</td>\n",
       "      <td>10.372</td>\n",
       "      <td>0.0</td>\n",
       "      <td>4.41</td>\n",
       "      <td>2.77</td>\n",
       "      <td>0.274968</td>\n",
       "      <td>2.086286</td>\n",
       "      <td>2.361254</td>\n",
       "      <td>0.228635</td>\n",
       "    </tr>\n",
       "    <tr>\n",
       "      <th>1</th>\n",
       "      <td>2023-01-01 00:30:00</td>\n",
       "      <td>5.5</td>\n",
       "      <td>7.465</td>\n",
       "      <td>7.330</td>\n",
       "      <td>0.135</td>\n",
       "      <td>0.0</td>\n",
       "      <td>0.0</td>\n",
       "      <td>2.912</td>\n",
       "      <td>2.912</td>\n",
       "      <td>0.5</td>\n",
       "      <td>...</td>\n",
       "      <td>3.048</td>\n",
       "      <td>0.0</td>\n",
       "      <td>10.378</td>\n",
       "      <td>0.0</td>\n",
       "      <td>13.91</td>\n",
       "      <td>6.86</td>\n",
       "      <td>0.275170</td>\n",
       "      <td>2.086286</td>\n",
       "      <td>2.361455</td>\n",
       "      <td>0.228635</td>\n",
       "    </tr>\n",
       "    <tr>\n",
       "      <th>2</th>\n",
       "      <td>2023-01-01 01:00:00</td>\n",
       "      <td>5.5</td>\n",
       "      <td>7.468</td>\n",
       "      <td>7.333</td>\n",
       "      <td>0.135</td>\n",
       "      <td>0.0</td>\n",
       "      <td>0.0</td>\n",
       "      <td>2.912</td>\n",
       "      <td>2.912</td>\n",
       "      <td>0.5</td>\n",
       "      <td>...</td>\n",
       "      <td>3.048</td>\n",
       "      <td>0.0</td>\n",
       "      <td>10.380</td>\n",
       "      <td>0.0</td>\n",
       "      <td>15.44</td>\n",
       "      <td>7.52</td>\n",
       "      <td>0.275270</td>\n",
       "      <td>2.108282</td>\n",
       "      <td>2.383553</td>\n",
       "      <td>0.228635</td>\n",
       "    </tr>\n",
       "    <tr>\n",
       "      <th>3</th>\n",
       "      <td>2023-01-01 01:30:00</td>\n",
       "      <td>5.5</td>\n",
       "      <td>7.467</td>\n",
       "      <td>7.331</td>\n",
       "      <td>0.135</td>\n",
       "      <td>0.0</td>\n",
       "      <td>0.0</td>\n",
       "      <td>2.912</td>\n",
       "      <td>2.912</td>\n",
       "      <td>0.5</td>\n",
       "      <td>...</td>\n",
       "      <td>3.048</td>\n",
       "      <td>0.0</td>\n",
       "      <td>10.379</td>\n",
       "      <td>0.0</td>\n",
       "      <td>1.10</td>\n",
       "      <td>1.34</td>\n",
       "      <td>0.275213</td>\n",
       "      <td>2.108282</td>\n",
       "      <td>2.383495</td>\n",
       "      <td>0.228635</td>\n",
       "    </tr>\n",
       "    <tr>\n",
       "      <th>4</th>\n",
       "      <td>2023-01-01 02:00:00</td>\n",
       "      <td>5.5</td>\n",
       "      <td>7.465</td>\n",
       "      <td>7.330</td>\n",
       "      <td>0.135</td>\n",
       "      <td>0.0</td>\n",
       "      <td>0.0</td>\n",
       "      <td>2.912</td>\n",
       "      <td>2.912</td>\n",
       "      <td>0.5</td>\n",
       "      <td>...</td>\n",
       "      <td>3.048</td>\n",
       "      <td>0.0</td>\n",
       "      <td>10.378</td>\n",
       "      <td>0.0</td>\n",
       "      <td>6.70</td>\n",
       "      <td>3.76</td>\n",
       "      <td>0.275184</td>\n",
       "      <td>2.106590</td>\n",
       "      <td>2.381774</td>\n",
       "      <td>0.228635</td>\n",
       "    </tr>\n",
       "  </tbody>\n",
       "</table>\n",
       "<p>5 rows × 79 columns</p>\n",
       "</div>"
      ],
      "text/plain": [
       "                  Date  Dry-bulb temperature (°C)  \\\n",
       "0  2023-01-01 00:00:00                        5.5   \n",
       "1  2023-01-01 00:30:00                        5.5   \n",
       "2  2023-01-01 01:00:00                        5.5   \n",
       "3  2023-01-01 01:30:00                        5.5   \n",
       "4  2023-01-01 02:00:00                        5.5   \n",
       "\n",
       "   Total system energy (kBtu/h)  System natural gas (kBtu/h)  \\\n",
       "0                         7.460                        7.325   \n",
       "1                         7.465                        7.330   \n",
       "2                         7.468                        7.333   \n",
       "3                         7.467                        7.331   \n",
       "4                         7.465                        7.330   \n",
       "\n",
       "   System electricity (kBtu/h)  Total lights energy (kBtu/h)  \\\n",
       "0                        0.135                           0.0   \n",
       "1                        0.135                           0.0   \n",
       "2                        0.135                           0.0   \n",
       "3                        0.135                           0.0   \n",
       "4                        0.135                           0.0   \n",
       "\n",
       "   Lights electricity (kBtu/h)  Total equip energy (kBtu/h)  \\\n",
       "0                          0.0                        2.912   \n",
       "1                          0.0                        2.912   \n",
       "2                          0.0                        2.912   \n",
       "3                          0.0                        2.912   \n",
       "4                          0.0                        2.912   \n",
       "\n",
       "   Equip electricity (kBtu/h)  Total CE ex equip (kgCO2/h)  ...  \\\n",
       "0                       2.912                          0.5  ...   \n",
       "1                       2.912                          0.5  ...   \n",
       "2                       2.912                          0.5  ...   \n",
       "3                       2.912                          0.5  ...   \n",
       "4                       2.912                          0.5  ...   \n",
       "\n",
       "   Total electricity (kBtu/h)  Total grid displaced elec. PV (kBtu/h)  \\\n",
       "0                       3.048                                     0.0   \n",
       "1                       3.048                                     0.0   \n",
       "2                       3.048                                     0.0   \n",
       "3                       3.048                                     0.0   \n",
       "4                       3.048                                     0.0   \n",
       "\n",
       "   Total energy (kBtu/h)  Transformer Losses (kBtu/h)  \\\n",
       "0                 10.372                          0.0   \n",
       "1                 10.378                          0.0   \n",
       "2                 10.380                          0.0   \n",
       "3                 10.379                          0.0   \n",
       "4                 10.378                          0.0   \n",
       "\n",
       "   Agile Import price (p/kWh)  Agile Export price (p/kWh)  DHW demand (kW)  \\\n",
       "0                        4.41                        2.77         0.274968   \n",
       "1                       13.91                        6.86         0.275170   \n",
       "2                       15.44                        7.52         0.275270   \n",
       "3                        1.10                        1.34         0.275213   \n",
       "4                        6.70                        3.76         0.275184   \n",
       "\n",
       "   SH demand (kW)  Total heat demand (kW)  Ele demand (kW)  \n",
       "0        2.086286                2.361254         0.228635  \n",
       "1        2.086286                2.361455         0.228635  \n",
       "2        2.108282                2.383553         0.228635  \n",
       "3        2.108282                2.383495         0.228635  \n",
       "4        2.106590                2.381774         0.228635  \n",
       "\n",
       "[5 rows x 79 columns]"
      ]
     },
     "execution_count": 3,
     "metadata": {},
     "output_type": "execute_result"
    }
   ],
   "source": [
    "data = pd.read_csv(\"simulation_results_finished.csv\")\n",
    "data.head()"
   ]
  },
  {
   "cell_type": "code",
   "execution_count": 4,
   "metadata": {},
   "outputs": [],
   "source": [
    "data.set_index('Date', inplace=True)\n",
    "# Slice the DataFrame from a start date to the end\n",
    "start_date = '2023-11-01 00:00:00'\n",
    "end_date = '2023-11-30 23:30:00'\n",
    "data = data.loc[start_date:end_date]\n",
    "data.reset_index(inplace=True)\n",
    "T = data.shape[0]\n",
    "\n",
    "# Convert the format of the start date for the figure file name\n",
    "modified_start_date = start_date.replace(':', '_').replace(' ', '_')"
   ]
  },
  {
   "cell_type": "code",
   "execution_count": 5,
   "metadata": {},
   "outputs": [],
   "source": [
    "# Solar PV generation\n",
    "eta = 0.157\n",
    "S = 20\n",
    "solar_radiation = data[\"Direct radiation (W/m²)\"]/1000\n",
    "outdoor_temp = data[\"Dry-bulb temperature (°C)\"]\n",
    "\n",
    "pv = eta * S * solar_radiation *(1 - 0.005 * (outdoor_temp - 25))"
   ]
  },
  {
   "cell_type": "code",
   "execution_count": 6,
   "metadata": {},
   "outputs": [],
   "source": [
    "# COP calculation\n",
    "a = - 0.087\n",
    "b = 6.8 \n",
    "COP = a * (outdoor_temp + 30 - outdoor_temp) + b "
   ]
  },
  {
   "cell_type": "code",
   "execution_count": 7,
   "metadata": {},
   "outputs": [],
   "source": [
    "delta_t = 0.5\n",
    "\n",
    "demand_ele = data[\"Ele demand (kW)\"]\n",
    "demand_gas = data[\"Total heat demand (kW)\"]/0.95\n",
    "\n",
    "demand_SH = data[\"SH demand (kW)\"]\n",
    "demand_DHW = data[\"DHW demand (kW)\"]\n",
    "demand_heat = data[\"Total heat demand (kW)\"][:T]\n",
    "\n",
    "# Electricity price\n",
    "ele_import_price = data[\"Agile Import price (p/kWh)\"]\n",
    "ele_export_price = data[\"Agile Export price (p/kWh)\"]"
   ]
  },
  {
   "cell_type": "code",
   "execution_count": 8,
   "metadata": {},
   "outputs": [
    {
     "name": "stdout",
     "output_type": "stream",
     "text": [
      "13.953333333333333\n",
      "20.93\n"
     ]
    }
   ],
   "source": [
    "# Accurate Q_TES_init calculation\n",
    "T_TES_init = 50\n",
    "T_inlet = 10\n",
    "V_TES = 0.3\n",
    "\n",
    "Q_TES_init = (1000*V_TES*4186*(T_TES_init - T_inlet))/3.6e6\n",
    "print(Q_TES_init)\n",
    "\n",
    "# Accurate Q_TES_max calculation\n",
    "T_TES_max = 70\n",
    "Q_TES_max = (1000*V_TES*4186*(T_TES_max - T_inlet))/3.6e6\n",
    "print(Q_TES_max)"
   ]
  },
  {
   "cell_type": "code",
   "execution_count": 9,
   "metadata": {},
   "outputs": [],
   "source": [
    "inputs = {\n",
    "    \"T\": T,\n",
    "    \"delta_t\": delta_t,\n",
    "    \"d_ele\": demand_ele,\n",
    "    \"d_SH\": demand_SH,\n",
    "    \"d_DHW\": demand_DHW,\n",
    "    \"pi_import\": ele_import_price,\n",
    "    \"pi_export\": ele_export_price,\n",
    "    # ASHP\n",
    "    \"T_out\": outdoor_temp,\n",
    "    \"COP\": COP,\n",
    "    \"q_HP_max\": 10,\n",
    "    \"q_HP_min\": 0,\n",
    "    # Comfort params\n",
    "    ## For SH\n",
    "    \"rho_in\": 1.2041,\n",
    "    \"V_in\": 3277,\n",
    "    \"c_in\": 1000,\n",
    "    \"T_in_LB\": 19,\n",
    "    \"T_in_UB\": 23,\n",
    "    \"K_SH\": 0.0025,\n",
    "    \"T_in_init\": 21,\n",
    "    ## For DHW\n",
    "    \"c_TES\": 4186,\n",
    "    \"T_TES_LB\": 45,\n",
    "    \"T_TES_UB\": 55,\n",
    "    \"K_TES\": 0.0025,\n",
    "    \"T_TES_init\": T_TES_init,\n",
    "    # TES params\n",
    "    \"Q_TES_min\": 0,\n",
    "    \"Q_TES_max\": Q_TES_max,\n",
    "    \"Q_TES_init\": Q_TES_init,\n",
    "    \"V_TES\": V_TES,\n",
    "    \"rho_TES\": 1000,\n",
    "    \"T_inlet\": T_inlet,\n",
    "    \"T_TES_max\": T_TES_max,\n",
    "    \"p_pv\": pv\n",
    "}"
   ]
  },
  {
   "cell_type": "markdown",
   "metadata": {},
   "source": [
    "# SHEMS"
   ]
  },
  {
   "cell_type": "code",
   "execution_count": 10,
   "metadata": {},
   "outputs": [],
   "source": [
    "shems = shems_model(inputs)"
   ]
  },
  {
   "cell_type": "code",
   "execution_count": 11,
   "metadata": {},
   "outputs": [
    {
     "data": {
      "text/plain": [
       "{'Problem': [{'Name': 'x1', 'Lower bound': 8708.399550449143, 'Upper bound': 8709.264149871053, 'Number of objectives': 1, 'Number of constraints': 33120, 'Number of variables': 18720, 'Number of binary variables': 2880, 'Number of integer variables': 2880, 'Number of continuous variables': 15840, 'Number of nonzeros': 61917, 'Sense': 'minimize'}], 'Solver': [{'Status': 'ok', 'Return code': '0', 'Message': 'Model was solved to optimality (subject to tolerances), and an optimal solution is available.', 'Termination condition': 'optimal', 'Termination message': 'Model was solved to optimality (subject to tolerances), and an optimal solution is available.', 'Wall time': '2.5822839736938477', 'Error rc': 0, 'Time': 2.7658140659332275}], 'Solution': [OrderedDict([('number of solutions', 0), ('number of solutions displayed', 0)])]}"
      ]
     },
     "execution_count": 11,
     "metadata": {},
     "output_type": "execute_result"
    }
   ],
   "source": [
    "from sys import platform\n",
    "\n",
    "if platform == \"linux\":\n",
    "    # linux\n",
    "    solver = pyo.SolverFactory('cbc', executable='/usr/bin/cbc')\n",
    "elif platform == \"darwin\":\n",
    "    # maxOS\n",
    "    solver = pyo.SolverFactory('cplex', executable = '/Applications/CPLEX_Studio221/cplex/bin/x86-64_osx/cplex')\n",
    "    # solver = pyo.SolverFactory('scip', solver_io='nl')\n",
    "    # solver = pyo.SolverFactory('cbc')\n",
    "    solver = pyo.SolverFactory('gurobi')\n",
    "\n",
    "solver.solve(shems)"
   ]
  },
  {
   "cell_type": "code",
   "execution_count": 12,
   "metadata": {},
   "outputs": [
    {
     "name": "stdout",
     "output_type": "stream",
     "text": [
      "Objective function value: 8709.264149871045\n"
     ]
    }
   ],
   "source": [
    "obj_value = pyo.value(shems.obj)\n",
    "print(\"Objective function value:\", obj_value)"
   ]
  },
  {
   "cell_type": "markdown",
   "metadata": {},
   "source": [
    "# Gas Boiler Comparison"
   ]
  },
  {
   "cell_type": "code",
   "execution_count": 13,
   "metadata": {},
   "outputs": [],
   "source": [
    "Jan_Mar_gas_cap = 2137/12000 # 0.17808333\n",
    "Apr_Jun_gas_cap = 1610/12000 # 0.13416667\n",
    "Jul_Sep_gas_cap = 998/12000 # 0.08316667\n",
    "Oct_Dec_gas_cap = 926/12000 # 0.07716667\n",
    "\n",
    "avg_gas_cap = (Jan_Mar_gas_cap + Apr_Jun_gas_cap + Jul_Sep_gas_cap + Oct_Dec_gas_cap)/4\n",
    "avg_gas_cap # = 0.11814583333333334\n",
    "\n",
    "annual_avg_gas_price = 1304/13600 # 0.09588235\n",
    "\n",
    "rate = annual_avg_gas_price/avg_gas_cap # 0.8100000000000001\n",
    "\n",
    "Jan_Mar_gas_avg = Jan_Mar_gas_cap * rate * 100 # 14.42474973\n",
    "Apr_Jun_gas_avg = Apr_Jun_gas_cap * rate * 100 # 10.8485623\n",
    "Jul_Sep_gas_avg = Jul_Sep_gas_cap * rate * 100 # 6.7323747\n",
    "Oct_Dec_gas_avg = Oct_Dec_gas_cap * rate * 100 # 6.2323747"
   ]
  },
  {
   "cell_type": "code",
   "execution_count": 14,
   "metadata": {},
   "outputs": [],
   "source": [
    "# Assuming 'data' is your DataFrame and 'Date' is already in datetime format\n",
    "data['Date'] = pd.to_datetime(data['Date'])\n",
    "\n",
    "costs_total_gas = 0\n",
    "\n",
    "for index, row in data.iterrows():\n",
    "    t = row['Date']\n",
    "    if t >= pd.to_datetime('2023-01-01 00:00:00') and t <= pd.to_datetime('2023-03-31 23:30:00'):\n",
    "        gas_price = Jan_Mar_gas_avg     \n",
    "        if demand_ele[index] - pv[index] >= 0:\n",
    "            costs_total_gas += demand_gas[index] * delta_t * gas_price + ele_import_price[index] * (demand_ele[index] - pv[index]) * delta_t\n",
    "        else:\n",
    "            costs_total_gas += demand_gas[index] * delta_t * gas_price - ele_export_price[index] * (pv[index] - demand_ele[index]) * delta_t\n",
    "    elif t >= pd.to_datetime('2023-04-01 00:00:00') and t <= pd.to_datetime('2023-06-30 23:30:00'):\n",
    "        gas_price = Apr_Jun_gas_avg\n",
    "        if demand_ele[index] - pv[index] >= 0:\n",
    "            costs_total_gas += demand_gas[index] * delta_t * gas_price + ele_import_price[index] * (demand_ele[index] - pv[index]) * delta_t\n",
    "        else:\n",
    "            costs_total_gas += demand_gas[index] * delta_t * gas_price - ele_export_price[index] * (pv[index] - demand_ele[index]) * delta_t\n",
    "    elif t >= pd.to_datetime('2023-07-01 00:00:00') and t <= pd.to_datetime('2023-09-30 23:30:00'):\n",
    "        gas_price = Jul_Sep_gas_avg\n",
    "        if demand_ele[index] - pv[index] >= 0:\n",
    "            costs_total_gas += demand_gas[index] * delta_t * gas_price + ele_import_price[index] * (demand_ele[index] - pv[index]) * delta_t\n",
    "        else:\n",
    "            costs_total_gas += demand_gas[index] * delta_t * gas_price - ele_export_price[index] * (pv[index] - demand_ele[index]) * delta_t\n",
    "    elif t >= pd.to_datetime('2023-10-01 00:00:00') and t <= pd.to_datetime('2023-12-31 23:30:00'):\n",
    "        gas_price = Oct_Dec_gas_avg\n",
    "        if demand_ele[index] - pv[index] >= 0:\n",
    "            costs_total_gas += demand_gas[index] * delta_t * gas_price + ele_import_price[index] * (demand_ele[index] - pv[index]) * delta_t\n",
    "        else:\n",
    "            costs_total_gas += demand_gas[index] * delta_t * gas_price - ele_export_price[index] * (pv[index] - demand_ele[index]) * delta_t"
   ]
  },
  {
   "cell_type": "code",
   "execution_count": 15,
   "metadata": {},
   "outputs": [
    {
     "data": {
      "text/plain": [
       "np.float64(12143.794542268968)"
      ]
     },
     "execution_count": 15,
     "metadata": {},
     "output_type": "execute_result"
    }
   ],
   "source": [
    "costs_total_gas"
   ]
  },
  {
   "cell_type": "code",
   "execution_count": 16,
   "metadata": {},
   "outputs": [],
   "source": [
    "# Create a file and write the results to it\n",
    "with open('cost_results_monthly.txt', 'a') as file:\n",
    "    file.write(f\"From {start_date} to {end_date}: Cost HP: {pyo.value(shems.obj)}, Cost Gas Boiler: {costs_total_gas}\\n\")"
   ]
  },
  {
   "cell_type": "code",
   "execution_count": 17,
   "metadata": {},
   "outputs": [],
   "source": [
    "# # This cell needs to be run only once to create the initial CSV file!!!\n",
    "# # Create initial DataFrame\n",
    "# data = {\n",
    "#     'From': [],\n",
    "#     'To': [],\n",
    "#     'Cost_HP': [],\n",
    "#     'Cost_Gas_Boiler': []\n",
    "# }\n",
    "# df = pd.DataFrame(data)\n",
    "\n",
    "# # Write to CSV file\n",
    "# df.to_csv('cost_results_monthly.csv', index=False)"
   ]
  },
  {
   "cell_type": "code",
   "execution_count": 18,
   "metadata": {},
   "outputs": [],
   "source": [
    "# Read the existing CSV file\n",
    "existing_df = pd.read_csv('cost_results_monthly.csv')\n",
    "\n",
    "# Create new data to append\n",
    "new_data = {\n",
    "    'From': [start_date],\n",
    "    'To': [end_date],\n",
    "    'Cost_HP': [pyo.value(shems.obj)],\n",
    "    'Cost_Gas_Boiler': [costs_total_gas]\n",
    "}\n",
    "new_df = pd.DataFrame(new_data)\n",
    "\n",
    "# Append new data to the existing DataFrame\n",
    "updated_df = pd.concat([existing_df, new_df], ignore_index=True)"
   ]
  },
  {
   "cell_type": "code",
   "execution_count": 19,
   "metadata": {},
   "outputs": [],
   "source": [
    "# Write the updated DataFrame back to the CSV file\n",
    "updated_df.to_csv('cost_results_monthly.csv', index=False)"
   ]
  }
 ],
 "metadata": {
  "kernelspec": {
   "display_name": "SHEMS",
   "language": "python",
   "name": "python3"
  },
  "language_info": {
   "codemirror_mode": {
    "name": "ipython",
    "version": 3
   },
   "file_extension": ".py",
   "mimetype": "text/x-python",
   "name": "python",
   "nbconvert_exporter": "python",
   "pygments_lexer": "ipython3",
   "version": "3.10.15"
  }
 },
 "nbformat": 4,
 "nbformat_minor": 2
}
