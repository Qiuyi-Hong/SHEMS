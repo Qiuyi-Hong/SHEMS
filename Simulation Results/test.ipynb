{
 "cells": [
  {
   "cell_type": "code",
   "execution_count": 1,
   "metadata": {},
   "outputs": [],
   "source": [
    "import pandas as pd\n",
    "from datetime import datetime\n",
    "import matplotlib.pyplot as plt"
   ]
  },
  {
   "cell_type": "code",
   "execution_count": 2,
   "metadata": {},
   "outputs": [
    {
     "data": {
      "text/html": [
       "<div>\n",
       "<style scoped>\n",
       "    .dataframe tbody tr th:only-of-type {\n",
       "        vertical-align: middle;\n",
       "    }\n",
       "\n",
       "    .dataframe tbody tr th {\n",
       "        vertical-align: top;\n",
       "    }\n",
       "\n",
       "    .dataframe thead th {\n",
       "        text-align: right;\n",
       "    }\n",
       "</style>\n",
       "<table border=\"1\" class=\"dataframe\">\n",
       "  <thead>\n",
       "    <tr style=\"text-align: right;\">\n",
       "      <th></th>\n",
       "      <th>Unnamed: 0</th>\n",
       "      <th>Unnamed: 1</th>\n",
       "      <th>Total nat. gas (kBtu/h)</th>\n",
       "      <th>Dry-bulb temperature (�C)</th>\n",
       "    </tr>\n",
       "  </thead>\n",
       "  <tbody>\n",
       "    <tr>\n",
       "      <th>0</th>\n",
       "      <td>NaN</td>\n",
       "      <td>NaN</td>\n",
       "      <td>NaN</td>\n",
       "      <td>NaN</td>\n",
       "    </tr>\n",
       "    <tr>\n",
       "      <th>1</th>\n",
       "      <td>NaN</td>\n",
       "      <td>NaN</td>\n",
       "      <td>NaN</td>\n",
       "      <td>NaN</td>\n",
       "    </tr>\n",
       "    <tr>\n",
       "      <th>2</th>\n",
       "      <td>NaN</td>\n",
       "      <td>NaN</td>\n",
       "      <td>NaN</td>\n",
       "      <td>NaN</td>\n",
       "    </tr>\n",
       "    <tr>\n",
       "      <th>3</th>\n",
       "      <td>Date</td>\n",
       "      <td>Time</td>\n",
       "      <td>18 Havelock-test-Newcastle.aps</td>\n",
       "      <td>NewcastleEWY.fwt</td>\n",
       "    </tr>\n",
       "    <tr>\n",
       "      <th>4</th>\n",
       "      <td>NaN</td>\n",
       "      <td>NaN</td>\n",
       "      <td>NaN</td>\n",
       "      <td>NaN</td>\n",
       "    </tr>\n",
       "    <tr>\n",
       "      <th>5</th>\n",
       "      <td>Sun, 01/Jan</td>\n",
       "      <td>24:00</td>\n",
       "      <td>NaN</td>\n",
       "      <td>NaN</td>\n",
       "    </tr>\n",
       "    <tr>\n",
       "      <th>6</th>\n",
       "      <td>NaN</td>\n",
       "      <td>NaN</td>\n",
       "      <td>NaN</td>\n",
       "      <td>NaN</td>\n",
       "    </tr>\n",
       "    <tr>\n",
       "      <th>7</th>\n",
       "      <td>NaN</td>\n",
       "      <td>00:15</td>\n",
       "      <td>7.325</td>\n",
       "      <td>NaN</td>\n",
       "    </tr>\n",
       "    <tr>\n",
       "      <th>8</th>\n",
       "      <td>NaN</td>\n",
       "      <td>NaN</td>\n",
       "      <td>NaN</td>\n",
       "      <td>NaN</td>\n",
       "    </tr>\n",
       "    <tr>\n",
       "      <th>9</th>\n",
       "      <td>NaN</td>\n",
       "      <td>00:45</td>\n",
       "      <td>7.330</td>\n",
       "      <td>NaN</td>\n",
       "    </tr>\n",
       "  </tbody>\n",
       "</table>\n",
       "</div>"
      ],
      "text/plain": [
       "    Unnamed: 0 Unnamed: 1         Total nat. gas (kBtu/h)  \\\n",
       "0          NaN        NaN                             NaN   \n",
       "1          NaN        NaN                             NaN   \n",
       "2          NaN        NaN                             NaN   \n",
       "3         Date       Time  18 Havelock-test-Newcastle.aps   \n",
       "4          NaN        NaN                             NaN   \n",
       "5  Sun, 01/Jan      24:00                             NaN   \n",
       "6          NaN        NaN                             NaN   \n",
       "7          NaN      00:15                           7.325   \n",
       "8          NaN        NaN                             NaN   \n",
       "9          NaN      00:45                           7.330   \n",
       "\n",
       "  Dry-bulb temperature (�C)  \n",
       "0                       NaN  \n",
       "1                       NaN  \n",
       "2                       NaN  \n",
       "3          NewcastleEWY.fwt  \n",
       "4                       NaN  \n",
       "5                       NaN  \n",
       "6                       NaN  \n",
       "7                       NaN  \n",
       "8                       NaN  \n",
       "9                       NaN  "
      ]
     },
     "execution_count": 2,
     "metadata": {},
     "output_type": "execute_result"
    }
   ],
   "source": [
    "temp_gas = pd.read_csv('temp_gas.csv', header=1)\n",
    "temp_gas.head(10)"
   ]
  },
  {
   "cell_type": "code",
   "execution_count": 3,
   "metadata": {},
   "outputs": [
    {
     "data": {
      "text/html": [
       "<div>\n",
       "<style scoped>\n",
       "    .dataframe tbody tr th:only-of-type {\n",
       "        vertical-align: middle;\n",
       "    }\n",
       "\n",
       "    .dataframe tbody tr th {\n",
       "        vertical-align: top;\n",
       "    }\n",
       "\n",
       "    .dataframe thead th {\n",
       "        text-align: right;\n",
       "    }\n",
       "</style>\n",
       "<table border=\"1\" class=\"dataframe\">\n",
       "  <thead>\n",
       "    <tr style=\"text-align: right;\">\n",
       "      <th></th>\n",
       "      <th>Date</th>\n",
       "      <th>Time</th>\n",
       "      <th>Total nat. gas (kBtu/h)</th>\n",
       "      <th>Dry-bulb temperature (°C)</th>\n",
       "    </tr>\n",
       "  </thead>\n",
       "  <tbody>\n",
       "    <tr>\n",
       "      <th>5</th>\n",
       "      <td>Sun, 01/Jan</td>\n",
       "      <td>24:00</td>\n",
       "      <td>NaN</td>\n",
       "      <td>NaN</td>\n",
       "    </tr>\n",
       "    <tr>\n",
       "      <th>6</th>\n",
       "      <td>NaN</td>\n",
       "      <td>NaN</td>\n",
       "      <td>NaN</td>\n",
       "      <td>NaN</td>\n",
       "    </tr>\n",
       "    <tr>\n",
       "      <th>7</th>\n",
       "      <td>NaN</td>\n",
       "      <td>00:15</td>\n",
       "      <td>7.325</td>\n",
       "      <td>NaN</td>\n",
       "    </tr>\n",
       "    <tr>\n",
       "      <th>8</th>\n",
       "      <td>NaN</td>\n",
       "      <td>NaN</td>\n",
       "      <td>NaN</td>\n",
       "      <td>NaN</td>\n",
       "    </tr>\n",
       "    <tr>\n",
       "      <th>9</th>\n",
       "      <td>NaN</td>\n",
       "      <td>00:45</td>\n",
       "      <td>7.330</td>\n",
       "      <td>NaN</td>\n",
       "    </tr>\n",
       "    <tr>\n",
       "      <th>10</th>\n",
       "      <td>NaN</td>\n",
       "      <td>NaN</td>\n",
       "      <td>NaN</td>\n",
       "      <td>NaN</td>\n",
       "    </tr>\n",
       "    <tr>\n",
       "      <th>11</th>\n",
       "      <td>NaN</td>\n",
       "      <td>01:00</td>\n",
       "      <td>NaN</td>\n",
       "      <td>5.50</td>\n",
       "    </tr>\n",
       "    <tr>\n",
       "      <th>12</th>\n",
       "      <td>NaN</td>\n",
       "      <td>NaN</td>\n",
       "      <td>NaN</td>\n",
       "      <td>NaN</td>\n",
       "    </tr>\n",
       "    <tr>\n",
       "      <th>13</th>\n",
       "      <td>NaN</td>\n",
       "      <td>01:15</td>\n",
       "      <td>7.333</td>\n",
       "      <td>NaN</td>\n",
       "    </tr>\n",
       "    <tr>\n",
       "      <th>14</th>\n",
       "      <td>NaN</td>\n",
       "      <td>NaN</td>\n",
       "      <td>NaN</td>\n",
       "      <td>NaN</td>\n",
       "    </tr>\n",
       "  </tbody>\n",
       "</table>\n",
       "</div>"
      ],
      "text/plain": [
       "           Date   Time Total nat. gas (kBtu/h) Dry-bulb temperature (°C)\n",
       "5   Sun, 01/Jan  24:00                     NaN                       NaN\n",
       "6           NaN    NaN                     NaN                       NaN\n",
       "7           NaN  00:15                   7.325                       NaN\n",
       "8           NaN    NaN                     NaN                       NaN\n",
       "9           NaN  00:45                   7.330                       NaN\n",
       "10          NaN    NaN                     NaN                       NaN\n",
       "11          NaN  01:00                     NaN                      5.50\n",
       "12          NaN    NaN                     NaN                       NaN\n",
       "13          NaN  01:15                   7.333                       NaN\n",
       "14          NaN    NaN                     NaN                       NaN"
      ]
     },
     "execution_count": 3,
     "metadata": {},
     "output_type": "execute_result"
    }
   ],
   "source": [
    "temp_gas = temp_gas.rename(columns={'Unnamed: 0': 'Date', 'Unnamed: 1': 'Time', 'Dry-bulb temperature (�C)': 'Dry-bulb temperature (°C)'})\n",
    "df_len = len(temp_gas[\"Date\"])\n",
    "# Drop the first 5 rows\n",
    "temp_gas = temp_gas.drop(temp_gas.index[:5])\n",
    "\n",
    "temp_gas.head(10)"
   ]
  },
  {
   "cell_type": "code",
   "execution_count": 4,
   "metadata": {},
   "outputs": [
    {
     "name": "stdout",
     "output_type": "stream",
     "text": [
      "        Date   Time Total nat. gas (kBtu/h) Dry-bulb temperature (°C)\n",
      "5      01-01  24:00                     NaN                       NaN\n",
      "6        NaN    NaN                     NaN                       NaN\n",
      "7        NaN  00:15                   7.325                       NaN\n",
      "8        NaN    NaN                     NaN                       NaN\n",
      "9        NaN  00:45                   7.330                       NaN\n",
      "...      ...    ...                     ...                       ...\n",
      "52560    NaN    NaN                     NaN                       NaN\n",
      "52561    NaN  23:15                   7.262                       NaN\n",
      "52562    NaN    NaN                     NaN                       NaN\n",
      "52563    NaN  23:45                   7.223                       NaN\n",
      "52564    NaN    NaN                     NaN                       NaN\n",
      "\n",
      "[52560 rows x 4 columns]\n"
     ]
    }
   ],
   "source": [
    "# Custom date parser function\n",
    "def custom_date_parser(date_str):\n",
    "    return pd.to_datetime(date_str, format='%a, %d/%b')\n",
    "\n",
    "# Convert the Date column using the custom parser\n",
    "temp_gas[\"Date\"] = temp_gas[\"Date\"].apply(custom_date_parser)\n",
    "temp_gas[\"Date\"] = temp_gas[\"Date\"].dt.strftime('%m-%d')\n",
    "\n",
    "print(temp_gas)"
   ]
  },
  {
   "cell_type": "code",
   "execution_count": 5,
   "metadata": {},
   "outputs": [],
   "source": [
    "for i in range(0, len(temp_gas[\"Date\"]), 144):\n",
    "    # Get the date from row 0\n",
    "    date_to_duplicate = temp_gas.iloc[i]['Date']\n",
    "\n",
    "    # Assign this date to rows 0 to 143\n",
    "    # temp_gas.iloc[0:144, 0] = date_to_duplicate\n",
    "    temp_gas.iloc[i:144 + i, temp_gas.columns.get_loc('Date')] = date_to_duplicate\n"
   ]
  },
  {
   "cell_type": "code",
   "execution_count": 6,
   "metadata": {},
   "outputs": [],
   "source": [
    "for i in range(6, len(temp_gas[\"Date\"]), 6):\n",
    "    temp_to_duplicate = temp_gas.iloc[i]['Dry-bulb temperature (°C)']\n",
    "    \n",
    "    temp_gas.iloc[i - 4, temp_gas.columns.get_loc('Dry-bulb temperature (°C)')] = temp_to_duplicate\n",
    "    temp_gas.iloc[i - 2, temp_gas.columns.get_loc('Dry-bulb temperature (°C)')] = temp_to_duplicate"
   ]
  },
  {
   "cell_type": "code",
   "execution_count": 7,
   "metadata": {},
   "outputs": [],
   "source": [
    "for i in range(6, df_len, 2):\n",
    "    temp_gas.drop(i, inplace=True)"
   ]
  },
  {
   "cell_type": "code",
   "execution_count": 8,
   "metadata": {},
   "outputs": [],
   "source": [
    "for i in range(5, df_len, 6):\n",
    "    temp_gas.drop(i, inplace=True)"
   ]
  },
  {
   "cell_type": "code",
   "execution_count": 9,
   "metadata": {},
   "outputs": [],
   "source": [
    "temp_gas.iloc[-1, temp_gas.columns.get_loc('Dry-bulb temperature (°C)')] = temp_gas.iloc[-3]['Dry-bulb temperature (°C)']\n",
    "temp_gas.iloc[-2, temp_gas.columns.get_loc('Dry-bulb temperature (°C)')] = temp_gas.iloc[-3]['Dry-bulb temperature (°C)']"
   ]
  },
  {
   "cell_type": "code",
   "execution_count": 10,
   "metadata": {},
   "outputs": [],
   "source": [
    "# Export the DataFrame to a CSV file\n",
    "temp_gas.to_csv('temp_gas_updated.csv', index=False)"
   ]
  },
  {
   "cell_type": "code",
   "execution_count": 11,
   "metadata": {},
   "outputs": [],
   "source": [
    "tg = pd.read_csv('temp_gas_updated.csv')"
   ]
  },
  {
   "cell_type": "code",
   "execution_count": 12,
   "metadata": {},
   "outputs": [],
   "source": [
    "# Convert Date and Time columns to datetime objects\n",
    "tg['Date'] = pd.to_datetime(tg['Date'], format='%m-%d')\n",
    "tg['Time'] = pd.to_datetime(tg['Time'], format='%H:%M').dt.time\n",
    "\n",
    "# Combine Date and Time columns into a single datetime column\n",
    "tg['DateTime'] = tg.apply(lambda row: datetime.combine(row['Date'], row['Time']), axis=1)\n",
    "\n",
    "# Format the combined datetime column to the desired format\n",
    "tg['DateTime'] = tg['DateTime'].dt.strftime('%m-%d %H:%M')\n"
   ]
  },
  {
   "cell_type": "code",
   "execution_count": 13,
   "metadata": {},
   "outputs": [],
   "source": [
    "# Drop the Date and Time columns\n",
    "tg.drop(columns=['Date', 'Time'], inplace=True)\n",
    "# Rearrange 'DateTime' column to be the first column\n",
    "column_to_move = tg.pop('DateTime')\n",
    "tg.insert(0, 'DateTime', column_to_move)"
   ]
  },
  {
   "cell_type": "code",
   "execution_count": 14,
   "metadata": {},
   "outputs": [],
   "source": [
    "# Export the DataFrame to a excel file\n",
    "tg.to_csv('temp_gas_completed.csv', index=False)"
   ]
  },
  {
   "cell_type": "code",
   "execution_count": 15,
   "metadata": {},
   "outputs": [
    {
     "data": {
      "text/plain": [
       "Text(0, 0.5, 'Total nat. gas (kBtu/h)')"
      ]
     },
     "execution_count": 15,
     "metadata": {},
     "output_type": "execute_result"
    },
    {
     "data": {
      "image/png": "[encoded data removed]",
      "text/plain": [
       "<Figure size 640x480 with 1 Axes>"
      ]
     },
     "metadata": {},
     "output_type": "display_data"
    }
   ],
   "source": [
    "df = pd.read_csv('temp_gas_completed.csv')\n",
    "\n",
    "plt.plot(df['Dry-bulb temperature (°C)'], df['Total nat. gas (kBtu/h)'])\n",
    "plt.xlabel('Dry-bulb temperature (°C)')\n",
    "plt.ylabel('Total nat. gas (kBtu/h)')"
   ]
  },
  {
   "cell_type": "code",
   "execution_count": null,
   "metadata": {},
   "outputs": [],
   "source": []
  }
 ],
 "metadata": {
  "kernelspec": {
   "display_name": "SHEMS",
   "language": "python",
   "name": "python3"
  },
  "language_info": {
   "codemirror_mode": {
    "name": "ipython",
    "version": 3
   },
   "file_extension": ".py",
   "mimetype": "text/x-python",
   "name": "python",
   "nbconvert_exporter": "python",
   "pygments_lexer": "ipython3",
   "version": "3.10.15"
  }
 },
 "nbformat": 4,
 "nbformat_minor": 2
}
